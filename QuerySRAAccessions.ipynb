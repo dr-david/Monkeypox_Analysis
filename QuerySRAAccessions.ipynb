{
 "cells": [
  {
   "cell_type": "code",
   "execution_count": 1,
   "metadata": {},
   "outputs": [
    {
     "name": "stderr",
     "output_type": "stream",
     "text": [
      "/Users/gneiss/miniconda3/envs/pyro/lib/python3.9/site-packages/pysradb/utils.py:14: TqdmExperimentalWarning: Using `tqdm.autonotebook.tqdm` in notebook mode. Use `tqdm.tqdm` instead to force console mode (e.g. in jupyter console)\n",
      "  from tqdm.autonotebook import tqdm\n"
     ]
    }
   ],
   "source": [
    "import pyskim\n",
    "import pandas as pd\n",
    "from pysradb.search import SraSearch"
   ]
  },
  {
   "cell_type": "markdown",
   "metadata": {},
   "source": [
    "# Query SRA to find relevant sample accessions"
   ]
  },
  {
   "cell_type": "markdown",
   "metadata": {},
   "source": [
    "## Define query term"
   ]
  },
  {
   "cell_type": "code",
   "execution_count": 22,
   "metadata": {},
   "outputs": [],
   "source": [
    "query = 'txid10244[Organism:noexp] AND (\"filetype cram\"[Properties] OR \"filetype bam\"[Properties] OR \"filetype fastq\"[Properties])'\n",
    "query = 'txid10244[Organism:noexp]'\n",
    "\n",
    "max_query_num = 1_000_000"
   ]
  },
  {
   "cell_type": "markdown",
   "metadata": {},
   "source": [
    "## Search"
   ]
  },
  {
   "cell_type": "code",
   "execution_count": 38,
   "metadata": {},
   "outputs": [
    {
     "name": "stderr",
     "output_type": "stream",
     "text": [
      "100%|███████████████████████████████████████████| 63/63 [00:03<00:00, 18.36it/s]\n"
     ]
    }
   ],
   "source": [
    "instance = SraSearch(\n",
    "    verbosity=3, return_max=max_query_num, query=query #, platform=\"illumina\"\n",
    ")\n",
    "instance.search()\n",
    "df_search = instance.get_df()"
   ]
  },
  {
   "cell_type": "markdown",
   "metadata": {},
   "source": [
    "## Save output"
   ]
  },
  {
   "cell_type": "code",
   "execution_count": 39,
   "metadata": {},
   "outputs": [
    {
     "data": {
      "text/html": [
       "<div>\n",
       "<style scoped>\n",
       "    .dataframe tbody tr th:only-of-type {\n",
       "        vertical-align: middle;\n",
       "    }\n",
       "\n",
       "    .dataframe tbody tr th {\n",
       "        vertical-align: top;\n",
       "    }\n",
       "\n",
       "    .dataframe thead th {\n",
       "        text-align: right;\n",
       "    }\n",
       "</style>\n",
       "<table border=\"1\" class=\"dataframe\">\n",
       "  <thead>\n",
       "    <tr style=\"text-align: right;\">\n",
       "      <th></th>\n",
       "      <th>study_accession</th>\n",
       "      <th>experiment_accession</th>\n",
       "      <th>experiment_title</th>\n",
       "      <th>sample_taxon_id</th>\n",
       "      <th>sample_scientific_name</th>\n",
       "      <th>experiment_library_strategy</th>\n",
       "      <th>experiment_library_source</th>\n",
       "      <th>experiment_library_selection</th>\n",
       "      <th>sample_accession</th>\n",
       "      <th>sample_alias</th>\n",
       "      <th>...</th>\n",
       "      <th>study_study_type_existing_study_type</th>\n",
       "      <th>submission_accession</th>\n",
       "      <th>submission_alias</th>\n",
       "      <th>submission_attributes_1_tag</th>\n",
       "      <th>submission_attributes_1_value</th>\n",
       "      <th>submission_attributes_2_tag</th>\n",
       "      <th>submission_attributes_2_value</th>\n",
       "      <th>submission_center_name</th>\n",
       "      <th>submission_lab_name</th>\n",
       "      <th>submission_title</th>\n",
       "    </tr>\n",
       "  </thead>\n",
       "  <tbody>\n",
       "    <tr>\n",
       "      <th>0</th>\n",
       "      <td>ERP138137</td>\n",
       "      <td>ERX9368426</td>\n",
       "      <td>MinION sequencing</td>\n",
       "      <td>10244</td>\n",
       "      <td>Monkeypox virus</td>\n",
       "      <td>WGS</td>\n",
       "      <td>GENOMIC</td>\n",
       "      <td>other</td>\n",
       "      <td>ERS12148191</td>\n",
       "      <td>ena-SAMPLE-TAB-06-06-2022-15:54:10:513-3669</td>\n",
       "      <td>...</td>\n",
       "      <td>Other</td>\n",
       "      <td>ERA15198661</td>\n",
       "      <td>ena-SUBMISSION-TAB-06-06-2022-15:58:08:829-3673</td>\n",
       "      <td>&lt;NA&gt;</td>\n",
       "      <td>&lt;NA&gt;</td>\n",
       "      <td>&lt;NA&gt;</td>\n",
       "      <td>&lt;NA&gt;</td>\n",
       "      <td>Hospital General Universitario Gregorio Maranon</td>\n",
       "      <td>European Nucleotide Archive</td>\n",
       "      <td>Submitted by Hospital General Universitario Gr...</td>\n",
       "    </tr>\n",
       "  </tbody>\n",
       "</table>\n",
       "<p>1 rows × 210 columns</p>\n",
       "</div>"
      ],
      "text/plain": [
       "  study_accession experiment_accession   experiment_title sample_taxon_id  \\\n",
       "0       ERP138137           ERX9368426  MinION sequencing           10244   \n",
       "\n",
       "  sample_scientific_name experiment_library_strategy  \\\n",
       "0        Monkeypox virus                         WGS   \n",
       "\n",
       "  experiment_library_source experiment_library_selection sample_accession  \\\n",
       "0                   GENOMIC                        other      ERS12148191   \n",
       "\n",
       "                                  sample_alias  ...  \\\n",
       "0  ena-SAMPLE-TAB-06-06-2022-15:54:10:513-3669  ...   \n",
       "\n",
       "  study_study_type_existing_study_type submission_accession  \\\n",
       "0                                Other          ERA15198661   \n",
       "\n",
       "                                  submission_alias  \\\n",
       "0  ena-SUBMISSION-TAB-06-06-2022-15:58:08:829-3673   \n",
       "\n",
       "  submission_attributes_1_tag submission_attributes_1_value  \\\n",
       "0                        <NA>                          <NA>   \n",
       "\n",
       "  submission_attributes_2_tag submission_attributes_2_value  \\\n",
       "0                        <NA>                          <NA>   \n",
       "\n",
       "                            submission_center_name  \\\n",
       "0  Hospital General Universitario Gregorio Maranon   \n",
       "\n",
       "           submission_lab_name  \\\n",
       "0  European Nucleotide Archive   \n",
       "\n",
       "                                    submission_title  \n",
       "0  Submitted by Hospital General Universitario Gr...  \n",
       "\n",
       "[1 rows x 210 columns]"
      ]
     },
     "execution_count": 39,
     "metadata": {},
     "output_type": "execute_result"
    }
   ],
   "source": [
    "df_search.to_csv(\"sra_search.csv.gz\", index=False)\n",
    "df_search.head(1)"
   ]
  },
  {
   "cell_type": "code",
   "execution_count": 40,
   "metadata": {},
   "outputs": [
    {
     "data": {
      "text/plain": [
       "(34, 210)"
      ]
     },
     "execution_count": 40,
     "metadata": {},
     "output_type": "execute_result"
    }
   ],
   "source": [
    "df_search = df_search[df_search[\"experiment_library_source\"] == \"METAGENOMIC\"]\n",
    "df_search.shape"
   ]
  },
  {
   "cell_type": "markdown",
   "metadata": {},
   "source": [
    "## Save all run accessions"
   ]
  },
  {
   "cell_type": "code",
   "execution_count": 41,
   "metadata": {},
   "outputs": [
    {
     "data": {
      "text/plain": [
       "['run_1_accession']"
      ]
     },
     "execution_count": 41,
     "metadata": {},
     "output_type": "execute_result"
    }
   ],
   "source": [
    "run_accession_columns = df_search.filter(regex=\"run_?.*_accession\").columns.tolist()\n",
    "run_accession_columns"
   ]
  },
  {
   "cell_type": "code",
   "execution_count": 42,
   "metadata": {},
   "outputs": [],
   "source": [
    "accession_set = set()\n",
    "for col in run_accession_columns:\n",
    "    accessions = df_search[col].dropna().unique().tolist()\n",
    "    accession_set.update(accessions)"
   ]
  },
  {
   "cell_type": "code",
   "execution_count": 43,
   "metadata": {},
   "outputs": [
    {
     "name": "stdout",
     "output_type": "stream",
     "text": [
      "Found 34 accessions\n"
     ]
    }
   ],
   "source": [
    "print(f\"Found {len(accession_set)} accessions\")"
   ]
  },
  {
   "cell_type": "code",
   "execution_count": 44,
   "metadata": {},
   "outputs": [],
   "source": [
    "pd.Series(sorted(accession_set), name=\"accession\").to_csv(\n",
    "    \"accession_list.csv\", index=False\n",
    ")"
   ]
  },
  {
   "cell_type": "markdown",
   "metadata": {},
   "source": [
    "## Quick overview"
   ]
  },
  {
   "cell_type": "code",
   "execution_count": 45,
   "metadata": {
    "collapsed": true,
    "jupyter": {
     "outputs_hidden": true
    },
    "tags": []
   },
   "outputs": [
    {
     "name": "stdout",
     "output_type": "stream",
     "text": [
      "── Data Summary ────────────────────────────────────────────────────────────────────────────────────\n",
      "type                 value\n",
      "-----------------  -------\n",
      "Number of rows          34\n",
      "Number of columns      210\n",
      "──────────────────────────────────────────────────\n",
      "Column type frequency:\n",
      "          Count\n",
      "------  -------\n",
      "object      210\n",
      "\n",
      "── Variable type: object ───────────────────────────────────────────────────────────────────────────\n",
      "     name                                         na_count    n_unique  top_counts\n",
      "---  -----------------------------------------  ----------  ----------  ---------------------------------------------------------------------------------------------------------\n",
      "  0  study_accession                                     0           3  ERP137826: 29, SRP377367: 3, ERP137905: 2\n",
      "  1  experiment_accession                                0          34  ERX9357608: 1, ERX9317370: 1, SRX15482481: 1\n",
      "  2  experiment_title                                    0          32  Metagenomics of blister f[...]: 3, NextSeq 2000 paired end s[...]: 1, NextSeq 2000 paired end s[...]: 1\n",
      "  3  sample_taxon_id                                     0           1  10244: 34\n",
      "  4  sample_scientific_name                              0           1  Monkeypox virus: 34\n",
      "  5  experiment_library_strategy                         0           2  WGS: 31, OTHER: 3\n",
      "  6  experiment_library_source                           0           1  METAGENOMIC: 34\n",
      "  7  experiment_library_selection                        0           2  RANDOM: 31, RANDOM PCR: 3\n",
      "  8  sample_accession                                    0          33  ERS12080245: 2, ERS12131813: 1, ERS12131796: 1\n",
      "  9  sample_alias                                        0          33  ena-SAMPLE-TAB-27-05-2022[...]: 2, Monkeypox_PT0028_2022: 1, Monkeypox_PT0011_2022: 1\n",
      " 10  experiment_instrument_model                         0           4  NextSeq 2000: 27, GridION: 3, MinION: 3\n",
      " 11  pool_member_spots                                  29           5  634: 1, 17791: 1, 11126: 1\n",
      " 12  run_1_size                                         29           5  1871445: 1, 46838263: 1, 28317762: 1\n",
      " 13  run_1_accession                                     0          34  ERR9810277: 1, ERR9769174: 1, SRR19428465: 1\n",
      " 14  run_1_total_spots                                  29           5  634: 1, 17791: 1, 11126: 1\n",
      " 15  run_1_total_bases                                  29           5  2057393: 1, 54078501: 1, 32418815: 1\n",
      " 16  experiment_alias                                    0          34  Monkeypox_PT0028_2022: 1, Monkeypox_PT0008_2022: 1, 250522_Patient3: 1\n",
      " 17  experiment_base_coord                              34           0\n",
      " 18  experiment_center_name                              3           2  NATIONAL INSTITUTE OF HEA[...]: 29, Public Health Agency of Sweden: 2\n",
      " 19  experiment_design_description                      29           2  Viral metagenomics using [...]: 3, unspecified: 2\n",
      " 20  experiment_external_id                              2          31  SAMEA14455959: 2, SAMEA14500836: 1, SAMEA14500820: 1\n",
      " 21  experiment_library_construction_protocol            5           1  RANDOM: 29\n",
      " 22  experiment_library_name                             2          32  Monkeypox_PT0028_2022: 1, Monkeypox_PT0027_2022: 1, Monkeypox_PT0005_2022_ONT: 1\n",
      " 23  experiment_platform                                 0           3  ILLUMINA: 27, OXFORD_NANOPORE: 6, ION_TORRENT: 1\n",
      " 24  experiment_read_class                              34           0\n",
      " 25  experiment_read_index                              34           0\n",
      " 26  experiment_read_type                               34           0\n",
      " 27  experiment_sample_descriptor_accession              0          33  ERS12080245: 2, ERS12131813: 1, ERS12131796: 1\n",
      " 28  experiment_spot_length                             34           0\n",
      " 29  library_layout                                      0           2  PAIRED: 27, SINGLE: 7\n",
      " 30  library_layout_nominal_length                      34           0\n",
      " 31  library_layout_nominal_sdev                        34           0\n",
      " 32  pool_external_id                                   29           5  SAMN28812879: 1, SAMN28690415: 1, SAMN28690414: 1\n",
      " 33  pool_member_accession                              29           5  SRS13266660: 1, SRS13198265: 1, SRS13198264: 1\n",
      " 34  pool_member_bases                                  29           5  2057393: 1, 54078501: 1, 32418815: 1\n",
      " 35  pool_member_member_name                            34           0\n",
      " 36  pool_member_organism                               29           1  Monkeypox virus: 5\n",
      " 37  pool_member_sample_name                            29           5  MPXV_GSTT_Patient3: 1, MPXV_case_3: 1, MPXV_case_1: 1\n",
      " 38  pool_member_sample_title                           31           3  MPXV_GSTT_case_3: 1, Monkeypox_PT0005_2022_ONT: 1, Monkeypox_PT0001_2022: 1\n",
      " 39  pool_member_tax_id                                 29           1  10244: 5\n",
      " 40  run_1_alias                                         0          34  Monkeypox_PT0028_2022: 1, Monkeypox_PT0008_2022: 1, 250522_patient3.mapped.sa[...]: 1\n",
      " 41  run_1_base_A_count                                 29           5  671177: 1, 17727894: 1, 10542768: 1\n",
      " 42  run_1_base_C_count                                 29           5  351819: 1, 9170956: 1, 5582413: 1\n",
      " 43  run_1_base_G_count                                 29           5  355286: 1, 9236287: 1, 5630181: 1\n",
      " 44  run_1_base_N_count                                 29           1  0: 5\n",
      " 45  run_1_base_T_count                                 29           5  679111: 1, 17943364: 1, 10663453: 1\n",
      " 46  run_1_center_name                                   3           2  NATIONAL INSTITUTE OF HEA[...]: 29, Public Health Agency of Sweden: 2\n",
      " 47  run_1_cloudfile_1_filetype                         29           1  fastq: 5\n",
      " 48  run_1_cloudfile_1_location                         29           1  gs.US: 5\n",
      " 49  run_1_cloudfile_1_provider                         29           1  gs: 5\n",
      " 50  run_1_cloudfile_2_filetype                         29           1  fastq: 5\n",
      " 51  run_1_cloudfile_2_location                         29           1  s3.us-east-1: 5\n",
      " 52  run_1_cloudfile_2_provider                         29           1  s3: 5\n",
      " 53  run_1_cloudfile_3_filetype                         29           1  run: 5\n",
      " 54  run_1_cloudfile_3_location                         29           1  gs.US: 5\n",
      " 55  run_1_cloudfile_3_provider                         29           1  gs: 5\n",
      " 56  run_1_cloudfile_4_filetype                         29           1  run: 5\n",
      " 57  run_1_cloudfile_4_location                         29           1  s3.us-east-1: 5\n",
      " 58  run_1_cloudfile_4_provider                         29           1  s3: 5\n",
      " 59  run_1_cloudfile_5_filetype                         34           0\n",
      " 60  run_1_cloudfile_5_location                         34           0\n",
      " 61  run_1_cloudfile_5_provider                         34           0\n",
      " 62  run_1_cluster_name                                 29           1  public: 5\n",
      " 63  run_1_database_1                                   29           5  <Database><Table name=\"SE[...]: 1, <Database><Table name=\"SE[...]: 1, <Database><Table name=\"SE[...]: 1\n",
      " 64  run_1_is_public                                     0           1  true: 34\n",
      " 65  run_1_load_done                                     0           2  false: 29, true: 5\n",
      " 66  run_1_published                                     0           7  2022-06-02 20:53:44: 13, 2022-05-25 03:19:33: 11, 2022-06-02 20:53:43: 5\n",
      " 67  run_1_srafile_1_alternative_1_access_type          29           1  Use Cloud Data Delivery: 5\n",
      " 68  run_1_srafile_1_alternative_1_free_egress          29           1  -: 5\n",
      " 69  run_1_srafile_1_alternative_1_org                  29           1  GCP: 5\n",
      " 70  run_1_srafile_1_alternative_1_url                  29           5  gs://sra-pub-src-6/SRR195[...]: 1, gs://sra-pub-src-6/SRR194[...]: 1, gs://sra-pub-src-6/SRR194[...]: 1\n",
      " 71  run_1_srafile_1_alternative_2_access_type          29           1  Use Cloud Data Delivery: 5\n",
      " 72  run_1_srafile_1_alternative_2_free_egress          29           1  -: 5\n",
      " 73  run_1_srafile_1_alternative_2_org                  29           1  AWS: 5\n",
      " 74  run_1_srafile_1_alternative_2_url                  29           5  s3://sra-pub-src-12/SRR19[...]: 1, s3://sra-pub-src-8/SRR194[...]: 1, s3://sra-pub-src-8/SRR194[...]: 1\n",
      " 75  run_1_srafile_1_cluster                            29           1  public: 5\n",
      " 76  run_1_srafile_1_date                               29           5  2022-06-01 12:18:19: 1, 2022-05-27 05:24:33: 1, 2022-05-27 05:25:41: 1\n",
      " 77  run_1_srafile_1_filename                           29           5  mpxv_gstt_patient3.wohg38[...]: 1, 250522_patient3.mapped.sa[...]: 1, 250522_patient1.mapped.sa[...]: 1\n",
      " 78  run_1_srafile_1_md5                                29           5  a5896ba0ff58b87719f5ef6c4[...]: 1, e6107ae9384214fb26eebf0d5[...]: 1, 50fdfccbc8adcee8757cf2708[...]: 1\n",
      " 79  run_1_srafile_1_semantic_name                      29           1  fastq: 5\n",
      " 80  run_1_srafile_1_size                               29           5  4141414: 1, 108904224: 1, 65304922: 1\n",
      " 81  run_1_srafile_1_sratoolkit                         29           1  0: 5\n",
      " 82  run_1_srafile_1_supertype                          29           1  Original: 5\n",
      " 83  run_1_srafile_1_url                                34           0\n",
      " 84  run_1_srafile_2_alternative_1_access_type          29           1  anonymous: 5\n",
      " 85  run_1_srafile_2_alternative_1_free_egress          29           1  worldwide: 5\n",
      " 86  run_1_srafile_2_alternative_1_org                  29           1  NCBI: 5\n",
      " 87  run_1_srafile_2_alternative_1_url                  29           5  https://sra-download.ncbi[...]: 1, https://sra-download.ncbi[...]: 1, https://sra-download.ncbi[...]: 1\n",
      " 88  run_1_srafile_2_alternative_2_access_type          29           2  aws identity: 3, anonymous: 2\n",
      " 89  run_1_srafile_2_alternative_2_free_egress          29           2  s3.us-east-1: 3, worldwide: 2\n",
      " 90  run_1_srafile_2_alternative_2_org                  29           1  AWS: 5\n",
      " 91  run_1_srafile_2_alternative_2_url                  29           5  s3://sra-pub-run-8/SRR195[...]: 1, https://sra-pub-run-odp.s[...]: 1, https://sra-pub-run-odp.s[...]: 1\n",
      " 92  run_1_srafile_2_alternative_3_access_type          29           2  gcp identity: 3, aws identity: 2\n",
      " 93  run_1_srafile_2_alternative_3_free_egress          29           2  gs.US: 3, s3.us-east-1: 2\n",
      " 94  run_1_srafile_2_alternative_3_org                  29           2  GCP: 3, AWS: 2\n",
      " 95  run_1_srafile_2_alternative_3_url                  29           5  gs://sra-pub-run-10/SRR19[...]: 1, s3://sra-pub-run-4/SRR194[...]: 1, s3://sra-pub-run-4/SRR194[...]: 1\n",
      " 96  run_1_srafile_2_alternative_4_access_type          32           1  gcp identity: 2\n",
      " 97  run_1_srafile_2_alternative_4_free_egress          32           1  gs.US: 2\n",
      " 98  run_1_srafile_2_alternative_4_org                  32           1  GCP: 2\n",
      " 99  run_1_srafile_2_alternative_4_url                  32           2  gs://sra-pub-run-10/SRR19[...]: 1, gs://sra-pub-run-10/SRR19[...]: 1\n",
      "100  run_1_srafile_2_cluster                            29           1  public: 5\n",
      "101  run_1_srafile_2_date                               29           5  2022-06-01 12:18:28: 1, 2022-05-27 05:24:43: 1, 2022-05-27 05:25:49: 1\n",
      "102  run_1_srafile_2_filename                           29           5  SRR19504273: 1, SRR19428465: 1, SRR19428466: 1\n",
      "103  run_1_srafile_2_md5                                29           5  4089ad61a543785ac84d73aca[...]: 1, 7c2e2b4434e43f140f499474f[...]: 1, 89f0a71040a96ab9b94e63bd7[...]: 1\n",
      "104  run_1_srafile_2_semantic_name                      29           1  run: 5\n",
      "105  run_1_srafile_2_size                               29           5  1872674: 1, 46839488: 1, 28318990: 1\n",
      "106  run_1_srafile_2_sratoolkit                         29           1  1: 5\n",
      "107  run_1_srafile_2_supertype                          29           1  Primary ETL: 5\n",
      "108  run_1_srafile_2_url                                29           5  https://sra-download.ncbi[...]: 1, https://sra-download.ncbi[...]: 1, https://sra-download.ncbi[...]: 1\n",
      "109  run_1_srafile_3_alternative_1_access_type          34           0\n",
      "110  run_1_srafile_3_alternative_1_free_egress          34           0\n",
      "111  run_1_srafile_3_alternative_1_org                  34           0\n",
      "112  run_1_srafile_3_alternative_1_url                  34           0\n",
      "113  run_1_srafile_3_alternative_2_access_type          34           0\n",
      "114  run_1_srafile_3_alternative_2_free_egress          34           0\n",
      "115  run_1_srafile_3_alternative_2_org                  34           0\n",
      "116  run_1_srafile_3_alternative_2_url                  34           0\n",
      "117  run_1_srafile_3_alternative_3_access_type          34           0\n",
      "118  run_1_srafile_3_alternative_3_free_egress          34           0\n",
      "119  run_1_srafile_3_alternative_3_org                  34           0\n",
      "120  run_1_srafile_3_alternative_3_url                  34           0\n",
      "121  run_1_srafile_3_cluster                            34           0\n",
      "122  run_1_srafile_3_date                               34           0\n",
      "123  run_1_srafile_3_filename                           34           0\n",
      "124  run_1_srafile_3_md5                                34           0\n",
      "125  run_1_srafile_3_semantic_name                      34           0\n",
      "126  run_1_srafile_3_size                               34           0\n",
      "127  run_1_srafile_3_sratoolkit                         34           0\n",
      "128  run_1_srafile_3_supertype                          34           0\n",
      "129  run_1_srafile_3_url                                34           0\n",
      "130  run_1_static_data_available                        29           1  1: 5\n",
      "131  run_1_total_base_count                             29           5  2057393: 1, 54078501: 1, 32418815: 1\n",
      "132  run_1_total_base_cs_native                         29           1  false: 5\n",
      "133  run_1_unavailable                                   5           1  true: 29\n",
      "134  sample_attributes_10_tag                            2           3  collector name: 29, lat_lon: 2, propagation: 1\n",
      "135  sample_attributes_10_value                          2           3  not provided: 29, missing: 2, nil: 1\n",
      "136  sample_attributes_11_tag                            2           3  collecting institution: 29, propagation: 2, BioSampleModel: 1\n",
      "137  sample_attributes_11_value                          2           3  not provided: 29, not applicable: 2, MIGS.vi: 1\n",
      "138  sample_attributes_12_tag                            2           2  isolate: 29, BioSampleModel: 3\n",
      "139  sample_attributes_12_value                          2          31  MIGS.vi: 2, Monkeypox_PT0028_2022: 1, Monkeypox_PT0012_2022: 1\n",
      "140  sample_attributes_13_tag                            3           2  NCBI Accession ID: 29, BioSampleModel: 2\n",
      "141  sample_attributes_13_value                          3          29  ON585037: 2, MIGS/MIMS/MIMARKS.human-skin: 2, ON649709: 1\n",
      "142  sample_attributes_14_tag                            5           1  ENA-FIRST-PUBLIC: 29\n",
      "143  sample_attributes_14_value                          5           2  2022-06-02: 18, 2022-05-24: 11\n",
      "144  sample_attributes_15_tag                            5           1  ENA-LAST-UPDATE: 29\n",
      "145  sample_attributes_15_value                          5           2  2022-06-02: 18, 2022-05-24: 11\n",
      "146  sample_attributes_16_tag                           34           0\n",
      "147  sample_attributes_16_value                         34           0\n",
      "148  sample_attributes_1_tag                             0           3  TITLE: 29, strain: 3, collected_by: 2\n",
      "149  sample_attributes_1_value                           0          31  West African clade: 3, Sodersjukhuset Stockholm: 2, Monkeypox_PT0028_2022: 1\n",
      "150  sample_attributes_2_tag                             0           3  geographic location (coun[...]: 29, collection_date: 3, isolate: 2\n",
      "151  sample_attributes_2_value                           0           4  Portugal: 29, Human: 2, 2022-05-22: 2\n",
      "152  sample_attributes_3_tag                             0           4  collection date: 29, collection_date: 2, geographic location (coun[...]: 2\n",
      "153  sample_attributes_3_value                           0          13  2022-05-15: 8, 2022-05-19: 6, 2022-05-20: 4\n",
      "154  sample_attributes_4_tag                             0           4  sample capture status: 29, env_broad_scale: 2, host scientific name: 2\n",
      "155  sample_attributes_4_value                           0           4  active surveillance in re[...]: 29, not applicable: 2, Homo sapiens: 2\n",
      "156  sample_attributes_5_tag                             0           4  host common name: 29, env_local_scale: 2, isolate: 2\n",
      "157  sample_attributes_5_value                           0           4  Human: 29, not applicable: 2, Lesion: 2\n",
      "158  sample_attributes_6_tag                             0           4  host subject id: 29, env_medium: 2, ENA-FIRST-PUBLIC: 2\n",
      "159  sample_attributes_6_value                           0           4  not provided: 29, not applicable: 2, 2022-05-27: 2\n",
      "160  sample_attributes_7_tag                             0           4  host health state: 29, geo_loc_name: 2, ENA-LAST-UPDATE: 2\n",
      "161  sample_attributes_7_value                           0           4  not provided: 29, United Kingdom: 2, 2022-05-27: 2\n",
      "162  sample_attributes_8_tag                             2           3  host sex: 29, host: 2, isol_growth_condt: 1\n",
      "163  sample_attributes_8_value                           2           3  not provided: 29, Homo sapiens: 2, nil: 1\n",
      "164  sample_attributes_9_tag                             2           3  host scientific name: 29, isol_growth_condt: 2, lat_lon: 1\n",
      "165  sample_attributes_9_value                           2           3  Homo sapiens: 29, not applicable: 2, 51.49990770 N 0.11886112 W: 1\n",
      "166  sample_center_name                                  3           2  NATIONAL INSTITUTE OF HEA[...]: 29, Public Health Agency of Sweden: 2\n",
      "167  sample_common_name                                  5           1  Monkeypox virus: 29\n",
      "168  sample_description                                 32           1  Monkeypox virus sample fr[...]: 2\n",
      "169  sample_external_id_1                                0          33  SAMEA14455959: 2, SAMEA14500836: 1, SAMEA14500819: 1\n",
      "170  sample_external_id_1_namespace                      0           1  BioSample: 34\n",
      "171  sample_link_1_type                                 31           1  XREF_LINK: 3\n",
      "172  sample_link_1_value_1                              31           1  DB: bioproject: 3\n",
      "173  sample_link_1_value_2                              31           1  ID: 842892: 3\n",
      "174  sample_link_1_value_3                              31           1  LABEL: PRJNA842892: 3\n",
      "175  sample_title                                        2          31  Monkeypox virus sample fr[...]: 2, Monkeypox_PT0028_2022: 1, Monkeypox_PT0012_2022: 1\n",
      "176  study_alias                                         0           3  INSA_24052022: 29, PRJNA842892: 3, 4e2b74dc-0a59-43ed-af5e-4[...]: 2\n",
      "177  study_attributes_1_tag                              3           1  ENA-FIRST-PUBLIC: 31\n",
      "178  study_attributes_1_value                            3           2  2022-05-24: 29, 2022-05-25: 2\n",
      "179  study_attributes_2_tag                              3           1  ENA-LAST-UPDATE: 31\n",
      "180  study_attributes_2_value                            3           2  2022-05-24: 29, 2022-05-25: 2\n",
      "181  study_center_name                                   0           3  NATIONAL INSTITUTE OF HEA[...]: 29, BioProject: 3, Public Health Agency of Sweden: 2\n",
      "182  study_center_project_name                          32           1  Monkeypox Outbreak Sweden 2022: 2\n",
      "183  study_external_id_1                                 0           3  PRJEB53055: 29, PRJNA842892: 3, PRJEB53129: 2\n",
      "184  study_external_id_1_namespace                       0           1  BioProject: 34\n",
      "185  study_link_1_type                                  34           0\n",
      "186  study_link_1_value_1                               34           0\n",
      "187  study_link_1_value_2                               34           0\n",
      "188  study_link_2_type                                  34           0\n",
      "189  study_link_2_value_1                               34           0\n",
      "190  study_link_2_value_2                               34           0\n",
      "191  study_link_3_type                                  34           0\n",
      "192  study_link_3_value_1                               34           0\n",
      "193  study_link_3_value_2                               34           0\n",
      "194  study_link_4_type                                  34           0\n",
      "195  study_link_4_value_1                               34           0\n",
      "196  study_link_4_value_2                               34           0\n",
      "197  study_study_abstract                                0           3  Whole-genome sequencing d[...]: 29, Reads of monkeypox virus [...]: 3, project to deposit all se[...]: 2\n",
      "198  study_study_description                             3           2  Whole-genome sequencing d[...]: 29, project to deposit all se[...]: 2\n",
      "199  study_study_title                                   0           3  Genomic surveillance of M[...]: 29, Monkeypox virus from ongo[...]: 3, monkeypox viruses sequenc[...]: 2\n",
      "200  study_study_type_existing_study_type                0           1  Other: 34\n",
      "201  submission_accession                                0           7  ERA14901277: 18, ERA14682078: 9, SRA1427830: 2\n",
      "202  submission_alias                                    0           7  SUBMISSION-02-06-2022-09:[...]: 18, SUBMISSION-24-05-2022-16:[...]: 9, SUB11540575: 2\n",
      "203  submission_attributes_1_tag                        32           1  ENA-MANIFEST-FILE: 2\n",
      "204  submission_attributes_1_value                      32           2  <![CDATA[  STUDY PRJEB531[...]: 1, <![CDATA[  STUDY PRJEB531[...]: 1\n",
      "205  submission_attributes_2_tag                        32           1  ENA-MANIFEST-FILE-MD5: 2\n",
      "206  submission_attributes_2_value                      32           2  cc2a9b162f3acca7c38fee6a7[...]: 1, 7c7fc3d9e672b6c12bd2afa9e[...]: 1\n",
      "207  submission_center_name                              0           3  NATIONAL INSTITUTE OF HEA[...]: 29, King's College London: 3, Public Health Agency of Sweden: 2\n",
      "208  submission_lab_name                                 0           2  European Nucleotide Archive: 31, Centre for Clinical Infec[...]: 3\n",
      "209  submission_title                                    3           3  Submitted by NATIONAL INS[...]: 18, Submitted by NATIONAL INS[...]: 11, Submitted by Public Healt[...]: 2\n",
      "\n"
     ]
    }
   ],
   "source": [
    "pyskim.skim(df_search)"
   ]
  }
 ],
 "metadata": {
  "kernelspec": {
   "display_name": "pyro",
   "language": "python",
   "name": "pyro"
  },
  "language_info": {
   "codemirror_mode": {
    "name": "ipython",
    "version": 3
   },
   "file_extension": ".py",
   "mimetype": "text/x-python",
   "name": "python",
   "nbconvert_exporter": "python",
   "pygments_lexer": "ipython3",
   "version": "3.9.7"
  }
 },
 "nbformat": 4,
 "nbformat_minor": 4
}
